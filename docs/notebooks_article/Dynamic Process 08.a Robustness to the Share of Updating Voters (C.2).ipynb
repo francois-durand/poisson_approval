{
 "cells": [
  {
   "cell_type": "markdown",
   "metadata": {},
   "source": [
    "# Dynamic Process: Robustness to the Share of Updating Voters (C.2)"
   ]
  },
  {
   "cell_type": "code",
   "execution_count": 1,
   "metadata": {
    "ExecuteTime": {
     "end_time": "2021-02-09T13:45:42.597524Z",
     "start_time": "2021-02-09T13:45:36.046941Z"
    }
   },
   "outputs": [],
   "source": [
    "import numpy as np\n",
    "import pandas as pd\n",
    "from matplotlib import pyplot as plt\n",
    "from poisson_approval import *"
   ]
  },
  {
   "cell_type": "code",
   "execution_count": 2,
   "metadata": {
    "ExecuteTime": {
     "end_time": "2021-02-09T13:45:42.609297Z",
     "start_time": "2021-02-09T13:45:42.603312Z"
    }
   },
   "outputs": [],
   "source": [
    "N_SAMPLES = 10000\n",
    "N_MAX_EPISODES = 1000"
   ]
  },
  {
   "cell_type": "code",
   "execution_count": 3,
   "metadata": {
    "ExecuteTime": {
     "end_time": "2021-02-09T13:45:42.642208Z",
     "start_time": "2021-02-09T13:45:42.614283Z"
    }
   },
   "outputs": [],
   "source": [
    "update_ratios = {\n",
    "    '1': 1,\n",
    "    '0.5': 0.5,\n",
    "    'one_over_log_log_t_plus_fourteen': one_over_log_log_t_plus_fourteen,\n",
    "    'one_over_log_t_plus_one': one_over_log_t_plus_one,\n",
    "    'one_over_sqrt_t': one_over_sqrt_t,\n",
    "    'one_over_t': one_over_t, \n",
    "}"
   ]
  },
  {
   "cell_type": "code",
   "execution_count": 4,
   "metadata": {
    "ExecuteTime": {
     "end_time": "2021-02-09T13:45:42.724481Z",
     "start_time": "2021-02-09T13:45:42.647194Z"
    }
   },
   "outputs": [],
   "source": [
    "update_ratios_legend = {\n",
    "    '1': '1',    \n",
    "    '0.5': '0.5',\n",
    "    'one_over_log_log_t_plus_fourteen': '1 / log(log(t + 14))',\n",
    "    'one_over_log_t_plus_one': '1 / log(t + 1)',\n",
    "    'one_over_sqrt_t': '1 / sqrt(t)',\n",
    "    'one_over_t': '1 / t', \n",
    "}"
   ]
  },
  {
   "cell_type": "code",
   "execution_count": 5,
   "metadata": {
    "ExecuteTime": {
     "end_time": "2021-02-09T13:45:42.738719Z",
     "start_time": "2021-02-09T13:45:42.728675Z"
    }
   },
   "outputs": [],
   "source": [
    "rand_profile = RandProfileHistogramUniform(n_bins=1)"
   ]
  },
  {
   "cell_type": "markdown",
   "metadata": {},
   "source": [
    "## Convergence Rate"
   ]
  },
  {
   "cell_type": "code",
   "execution_count": 6,
   "metadata": {
    "ExecuteTime": {
     "end_time": "2021-02-09T13:45:47.508841Z",
     "start_time": "2021-02-09T13:45:42.743002Z"
    }
   },
   "outputs": [
    {
     "data": {
      "text/html": [
       "<div>\n",
       "<style scoped>\n",
       "    .dataframe tbody tr th:only-of-type {\n",
       "        vertical-align: middle;\n",
       "    }\n",
       "\n",
       "    .dataframe tbody tr th {\n",
       "        vertical-align: top;\n",
       "    }\n",
       "\n",
       "    .dataframe thead th {\n",
       "        text-align: right;\n",
       "    }\n",
       "</style>\n",
       "<table border=\"1\" class=\"dataframe\">\n",
       "  <thead>\n",
       "    <tr style=\"text-align: right;\">\n",
       "      <th></th>\n",
       "      <th>Approval</th>\n",
       "      <th>Plurality</th>\n",
       "      <th>Anti-plurality</th>\n",
       "    </tr>\n",
       "    <tr>\n",
       "      <th>Share of updating voters</th>\n",
       "      <th></th>\n",
       "      <th></th>\n",
       "      <th></th>\n",
       "    </tr>\n",
       "  </thead>\n",
       "  <tbody>\n",
       "    <tr>\n",
       "      <th>1</th>\n",
       "      <td>0.9390</td>\n",
       "      <td>1.0</td>\n",
       "      <td>0.0</td>\n",
       "    </tr>\n",
       "    <tr>\n",
       "      <th>0.5</th>\n",
       "      <td>0.9461</td>\n",
       "      <td>1.0</td>\n",
       "      <td>0.0</td>\n",
       "    </tr>\n",
       "    <tr>\n",
       "      <th>one_over_log_log_t_plus_fourteen</th>\n",
       "      <td>0.9492</td>\n",
       "      <td>1.0</td>\n",
       "      <td>0.0</td>\n",
       "    </tr>\n",
       "    <tr>\n",
       "      <th>one_over_log_t_plus_one</th>\n",
       "      <td>0.9472</td>\n",
       "      <td>1.0</td>\n",
       "      <td>0.0</td>\n",
       "    </tr>\n",
       "    <tr>\n",
       "      <th>one_over_sqrt_t</th>\n",
       "      <td>0.9503</td>\n",
       "      <td>1.0</td>\n",
       "      <td>0.0</td>\n",
       "    </tr>\n",
       "    <tr>\n",
       "      <th>one_over_t</th>\n",
       "      <td>0.0558</td>\n",
       "      <td>1.0</td>\n",
       "      <td>0.0</td>\n",
       "    </tr>\n",
       "  </tbody>\n",
       "</table>\n",
       "</div>"
      ],
      "text/plain": [
       "                                  Approval  Plurality  Anti-plurality\n",
       "Share of updating voters                                             \n",
       "1                                   0.9390        1.0             0.0\n",
       "0.5                                 0.9461        1.0             0.0\n",
       "one_over_log_log_t_plus_fourteen    0.9492        1.0             0.0\n",
       "one_over_log_t_plus_one             0.9472        1.0             0.0\n",
       "one_over_sqrt_t                     0.9503        1.0             0.0\n",
       "one_over_t                          0.0558        1.0             0.0"
      ]
     },
     "execution_count": 6,
     "metadata": {},
     "output_type": "execute_result"
    }
   ],
   "source": [
    "table_cv = pd.DataFrame()\n",
    "table_cv.index.name = 'Share of updating voters'\n",
    "d_update_ratio_name_results = {}\n",
    "for update_ratio_name, update_ratio in update_ratios.items():\n",
    "    results = monte_carlo_fictitious_play(\n",
    "        factory=rand_profile,\n",
    "        n_samples=N_SAMPLES,\n",
    "        n_max_episodes=N_MAX_EPISODES,\n",
    "        voting_rules=VOTING_RULES,\n",
    "        init='random_tau',\n",
    "        ballot_update_ratio=update_ratio,\n",
    "        monte_carlo_settings=[\n",
    "            MCS_N_EPISODES,\n",
    "            MCS_CONVERGES,\n",
    "        ],\n",
    "        file_save='sav/ballot_update_%s.sav' % update_ratio_name,\n",
    "    )\n",
    "    d_update_ratio_name_results[update_ratio_name] = results\n",
    "    for voting_rule in VOTING_RULES:\n",
    "        table_cv.loc[update_ratio_name, voting_rule] = float(results[voting_rule]['mean_converges'])\n",
    "table_cv"
   ]
  },
  {
   "cell_type": "markdown",
   "metadata": {},
   "source": [
    "## Convergence Speed"
   ]
  },
  {
   "cell_type": "code",
   "execution_count": 7,
   "metadata": {
    "ExecuteTime": {
     "end_time": "2021-02-09T13:45:50.378926Z",
     "start_time": "2021-02-09T13:45:47.513827Z"
    }
   },
   "outputs": [
    {
     "data": {
      "image/png": "[encoded data removed]",
      "text/plain": [
       "<Figure size 576x288 with 1 Axes>"
      ]
     },
     "metadata": {
      "needs_background": "light"
     },
     "output_type": "display_data"
    }
   ],
   "source": [
    "fig, ax = plt.subplots(figsize=(8, 4))\n",
    "for update_ratio_name, update_ratio in update_ratios.items():\n",
    "    plt_cdf(\n",
    "        data=d_update_ratio_name_results[update_ratio_name]['Approval']['n_episodes'],\n",
    "        weights=np.ones(N_SAMPLES) / N_SAMPLES,\n",
    "        n_samples=N_SAMPLES,\n",
    "        data_min=0,\n",
    "        data_max=N_MAX_EPISODES,\n",
    "        label=update_ratios_legend[update_ratio_name]\n",
    "    )\n",
    "plt.grid(True)\n",
    "plt.legend()\n",
    "plt.xlabel('Number of episodes')\n",
    "plt.ylabel('Cumulative likelihood of occurrence')\n",
    "plt.xlim(0, N_MAX_EPISODES)\n",
    "plt.ylim(0, 1.05)\n",
    "plt.savefig('img/fspeedCV_ballot_update_ratio.png', dpi=600, bbox_inches=\"tight\")"
   ]
  }
 ],
 "metadata": {
  "kernelspec": {
   "display_name": "Python 3 (ipykernel)",
   "language": "python",
   "name": "python3"
  },
  "language_info": {
   "codemirror_mode": {
    "name": "ipython",
    "version": 3
   },
   "file_extension": ".py",
   "mimetype": "text/x-python",
   "name": "python",
   "nbconvert_exporter": "python",
   "pygments_lexer": "ipython3",
   "version": "3.9.7"
  },
  "toc": {
   "base_numbering": 1,
   "nav_menu": {},
   "number_sections": true,
   "sideBar": true,
   "skip_h1_title": true,
   "title_cell": "Table of Contents",
   "title_sidebar": "Contents",
   "toc_cell": false,
   "toc_position": {},
   "toc_section_display": true,
   "toc_window_display": false
  }
 },
 "nbformat": 4,
 "nbformat_minor": 4
}
