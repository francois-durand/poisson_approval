{
 "cells": [
  {
   "cell_type": "markdown",
   "metadata": {},
   "source": [
    "# Dynamic Process: Condorcet Profiles (5.2.1, 5.2.2, C.6)"
   ]
  },
  {
   "cell_type": "code",
   "execution_count": 1,
   "metadata": {
    "ExecuteTime": {
     "end_time": "2021-02-09T13:45:19.913368Z",
     "start_time": "2021-02-09T13:45:14.786491Z"
    }
   },
   "outputs": [],
   "source": [
    "import numpy as np\n",
    "from matplotlib import pyplot as plt\n",
    "from poisson_approval import *"
   ]
  },
  {
   "cell_type": "code",
   "execution_count": 2,
   "metadata": {
    "ExecuteTime": {
     "end_time": "2021-02-09T13:45:19.924338Z",
     "start_time": "2021-02-09T13:45:19.917359Z"
    }
   },
   "outputs": [],
   "source": [
    "N_SAMPLES = 10000\n",
    "N_MAX_EPISODES = 1000"
   ]
  },
  {
   "cell_type": "code",
   "execution_count": 3,
   "metadata": {
    "ExecuteTime": {
     "end_time": "2021-02-09T13:45:19.946279Z",
     "start_time": "2021-02-09T13:45:19.928328Z"
    }
   },
   "outputs": [],
   "source": [
    "rand_profile = RandConditional(\n",
    "    factory=RandProfileHistogramUniform(n_bins=1),\n",
    "    test=is_condorcet,\n",
    "    n_trials_max=None\n",
    ")"
   ]
  },
  {
   "cell_type": "code",
   "execution_count": 4,
   "metadata": {
    "ExecuteTime": {
     "end_time": "2021-02-09T13:45:20.706932Z",
     "start_time": "2021-02-09T13:45:19.949273Z"
    }
   },
   "outputs": [],
   "source": [
    "results = monte_carlo_fictitious_play(\n",
    "    factory=rand_profile,\n",
    "    n_samples=N_SAMPLES,\n",
    "    n_max_episodes=N_MAX_EPISODES,\n",
    "    voting_rules=VOTING_RULES,\n",
    "    init='random_tau',\n",
    "    monte_carlo_settings=[\n",
    "        MCS_PROFILE,\n",
    "        MCS_TAU_INIT,\n",
    "        MCS_CONVERGES,\n",
    "        MCS_FREQUENCY_CW_WINS,\n",
    "        MCS_WELFARE_LOSSES,\n",
    "    ],\n",
    "    file_save='sav/condorcet_profiles.sav',\n",
    ")"
   ]
  },
  {
   "cell_type": "markdown",
   "metadata": {},
   "source": [
    "## Convergence (5.2.1)"
   ]
  },
  {
   "cell_type": "code",
   "execution_count": 5,
   "metadata": {
    "ExecuteTime": {
     "end_time": "2021-02-09T13:45:20.721895Z",
     "start_time": "2021-02-09T13:45:20.709926Z"
    }
   },
   "outputs": [
    {
     "data": {
      "text/plain": [
       "0.9997"
      ]
     },
     "execution_count": 5,
     "metadata": {},
     "output_type": "execute_result"
    }
   ],
   "source": [
    "results[APPROVAL]['mean_converges']"
   ]
  },
  {
   "cell_type": "markdown",
   "metadata": {},
   "source": [
    "## Condorcet Consistency (5.2.2)"
   ]
  },
  {
   "cell_type": "markdown",
   "metadata": {},
   "source": [
    "### Ratios"
   ]
  },
  {
   "cell_type": "code",
   "execution_count": 6,
   "metadata": {
    "ExecuteTime": {
     "end_time": "2021-02-09T13:45:20.753807Z",
     "start_time": "2021-02-09T13:45:20.724885Z"
    }
   },
   "outputs": [
    {
     "data": {
      "text/plain": [
       "0.999644653864655"
      ]
     },
     "execution_count": 6,
     "metadata": {},
     "output_type": "execute_result"
    }
   ],
   "source": [
    "float(results[APPROVAL]['mean_frequency_cw_wins'])"
   ]
  },
  {
   "cell_type": "code",
   "execution_count": 7,
   "metadata": {
    "ExecuteTime": {
     "end_time": "2021-02-09T13:45:20.821898Z",
     "start_time": "2021-02-09T13:45:20.758795Z"
    }
   },
   "outputs": [
    {
     "data": {
      "text/plain": [
       "0.6605"
      ]
     },
     "execution_count": 7,
     "metadata": {},
     "output_type": "execute_result"
    }
   ],
   "source": [
    "float(results[PLURALITY]['mean_frequency_cw_wins'])"
   ]
  },
  {
   "cell_type": "code",
   "execution_count": 8,
   "metadata": {
    "ExecuteTime": {
     "end_time": "2021-02-09T13:45:20.851391Z",
     "start_time": "2021-02-09T13:45:20.826306Z"
    }
   },
   "outputs": [
    {
     "data": {
      "text/plain": [
       "0.49510742323833473"
      ]
     },
     "execution_count": 8,
     "metadata": {},
     "output_type": "execute_result"
    }
   ],
   "source": [
    "float(results[ANTI_PLURALITY]['mean_frequency_cw_wins'])"
   ]
  },
  {
   "cell_type": "markdown",
   "metadata": {},
   "source": [
    "### Profiles where the CW is not elected with probability 1, under AV"
   ]
  },
  {
   "cell_type": "markdown",
   "metadata": {},
   "source": [
    "Proportion of profiles where the CW is not elected with probability 1, under Approval:"
   ]
  },
  {
   "cell_type": "code",
   "execution_count": 9,
   "metadata": {
    "ExecuteTime": {
     "end_time": "2021-02-09T13:45:20.886147Z",
     "start_time": "2021-02-09T13:45:20.855229Z"
    }
   },
   "outputs": [
    {
     "data": {
      "text/plain": [
       "0.0006"
      ]
     },
     "execution_count": 9,
     "metadata": {},
     "output_type": "execute_result"
    }
   ],
   "source": [
    "np.sum(np.array(results[APPROVAL]['frequency_cw_wins']) < 1) / results[APPROVAL]['n_samples']"
   ]
  },
  {
   "cell_type": "code",
   "execution_count": 10,
   "metadata": {
    "ExecuteTime": {
     "end_time": "2021-02-09T13:45:20.978898Z",
     "start_time": "2021-02-09T13:45:20.893126Z"
    }
   },
   "outputs": [],
   "source": [
    "counter_examples = [\n",
    "    (profile, tau_init) \n",
    "    for (profile, tau_init, frequency_cw_wins) in zip(\n",
    "        results[APPROVAL]['profile'], \n",
    "        results[APPROVAL]['tau_init'], \n",
    "        results[APPROVAL]['frequency_cw_wins']\n",
    "    )\n",
    "    if frequency_cw_wins < 1\n",
    "]"
   ]
  },
  {
   "cell_type": "markdown",
   "metadata": {
    "ExecuteTime": {
     "end_time": "2021-02-05T09:50:16.584966Z",
     "start_time": "2021-02-05T09:50:16.575473Z"
    }
   },
   "source": [
    "Let us use a larger number of episodes to examine the counter-examples found above :"
   ]
  },
  {
   "cell_type": "code",
   "execution_count": 11,
   "metadata": {
    "ExecuteTime": {
     "end_time": "2021-02-09T13:45:21.255508Z",
     "start_time": "2021-02-09T13:45:20.982887Z"
    }
   },
   "outputs": [
    {
     "name": "stdout",
     "output_type": "stream",
     "text": [
      "Convergence in 13966 episodes\n",
      "The Condorcet winner is elected\n",
      "\n",
      "Convergence in 43 episodes\n",
      "Candidates winning frequencies: {a: 1}\n",
      "Condorcet winner: b\n",
      "\n",
      "Convergence in 39 episodes\n",
      "Candidates winning frequencies: {b: 1}\n",
      "Condorcet winner: a\n",
      "\n",
      "Convergence in 1311 episodes\n",
      "The Condorcet winner is elected\n",
      "\n",
      "Convergence in 50 episodes\n",
      "Candidates winning frequencies: {a: 1}\n",
      "Condorcet winner: b\n",
      "\n",
      "Convergence in 56282 episodes\n",
      "The Condorcet winner is elected\n",
      "\n"
     ]
    }
   ],
   "source": [
    "LARGE_N_MAX_EPISODES = 1000000\n",
    "for profile, tau_init in counter_examples:\n",
    "    results_p = profile.fictitious_play(\n",
    "        init=tau_init, \n",
    "        n_max_episodes=LARGE_N_MAX_EPISODES,\n",
    "        perception_update_ratio=one_over_log_t_plus_one,\n",
    "        ballot_update_ratio=one_over_log_t_plus_one,\n",
    "        winning_frequency_update_ratio=one_over_log_t_plus_one,\n",
    "    )\n",
    "    if not results_p['converges']:\n",
    "        print('No convergence, even after %s episodes' % LARGE_N_MAX_EPISODES)\n",
    "    else:\n",
    "        print('Convergence in %s episodes' % results_p['n_episodes'])\n",
    "        cw = list(profile.condorcet_winners)[0]\n",
    "        if results_p['d_candidate_winning_frequency'][cw] == 1:\n",
    "            print('The Condorcet winner is elected')\n",
    "        else:\n",
    "            print('Candidates winning frequencies: %s' % results_p['d_candidate_winning_frequency'])\n",
    "            print('Condorcet winner: %s' % profile.condorcet_winners)\n",
    "    print()"
   ]
  },
  {
   "cell_type": "markdown",
   "metadata": {},
   "source": [
    "## Welfare Losses (C.6)"
   ]
  },
  {
   "cell_type": "code",
   "execution_count": 12,
   "metadata": {
    "ExecuteTime": {
     "end_time": "2021-02-09T13:45:24.276126Z",
     "start_time": "2021-02-09T13:45:21.259130Z"
    }
   },
   "outputs": [
    {
     "data": {
      "image/png": "[encoded data removed]",
      "text/plain": [
       "<Figure size 576x288 with 1 Axes>"
      ]
     },
     "metadata": {
      "needs_background": "light"
     },
     "output_type": "display_data"
    }
   ],
   "source": [
    "plot_welfare_losses(results, 'utilitarian_welfare_losses')\n",
    "plt.savefig('img/fUWelfareCW.png', dpi=600, bbox_inches=\"tight\")"
   ]
  }
 ],
 "metadata": {
  "kernelspec": {
   "display_name": "Python 3 (ipykernel)",
   "language": "python",
   "name": "python3"
  },
  "language_info": {
   "codemirror_mode": {
    "name": "ipython",
    "version": 3
   },
   "file_extension": ".py",
   "mimetype": "text/x-python",
   "name": "python",
   "nbconvert_exporter": "python",
   "pygments_lexer": "ipython3",
   "version": "3.9.7"
  },
  "toc": {
   "base_numbering": 1,
   "nav_menu": {},
   "number_sections": true,
   "sideBar": true,
   "skip_h1_title": true,
   "title_cell": "Table of Contents",
   "title_sidebar": "Contents",
   "toc_cell": false,
   "toc_position": {},
   "toc_section_display": true,
   "toc_window_display": false
  }
 },
 "nbformat": 4,
 "nbformat_minor": 4
}
